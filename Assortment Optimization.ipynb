{
 "cells": [
  {
   "cell_type": "markdown",
   "id": "a7d0a34e",
   "metadata": {},
   "source": [
    "## Submitted by Bhargavi Duggirala, UID: 005634488"
   ]
  },
  {
   "cell_type": "markdown",
   "id": "3ad453b9",
   "metadata": {},
   "source": [
    "### Part 1: Understanding the data"
   ]
  },
  {
   "cell_type": "markdown",
   "id": "0b8173f7",
   "metadata": {},
   "source": [
    "#### a)"
   ]
  },
  {
   "cell_type": "code",
   "execution_count": 1,
   "id": "d8e15bda",
   "metadata": {},
   "outputs": [],
   "source": [
    "import pandas as pd\n",
    "import numpy as np"
   ]
  },
  {
   "cell_type": "code",
   "execution_count": 2,
   "id": "38c37c49",
   "metadata": {},
   "outputs": [],
   "source": [
    "sushi_utilities = pd.read_csv('sushi_utilities_mat.csv', header=None)\n",
    "sushi_description = pd.read_csv('sushi_descriptions.csv', header=None)\n",
    "sushi_desc = np.array(sushi_description.iloc[:,1])"
   ]
  },
  {
   "cell_type": "code",
   "execution_count": 3,
   "id": "7d22f267",
   "metadata": {
    "scrolled": true
   },
   "outputs": [
    {
     "data": {
      "text/html": [
       "<div>\n",
       "<style scoped>\n",
       "    .dataframe tbody tr th:only-of-type {\n",
       "        vertical-align: middle;\n",
       "    }\n",
       "\n",
       "    .dataframe tbody tr th {\n",
       "        vertical-align: top;\n",
       "    }\n",
       "\n",
       "    .dataframe thead th {\n",
       "        text-align: right;\n",
       "    }\n",
       "</style>\n",
       "<table border=\"1\" class=\"dataframe\">\n",
       "  <thead>\n",
       "    <tr style=\"text-align: right;\">\n",
       "      <th></th>\n",
       "      <th>0</th>\n",
       "      <th>1</th>\n",
       "      <th>2</th>\n",
       "      <th>3</th>\n",
       "      <th>4</th>\n",
       "      <th>5</th>\n",
       "      <th>6</th>\n",
       "      <th>7</th>\n",
       "      <th>8</th>\n",
       "      <th>9</th>\n",
       "      <th>...</th>\n",
       "      <th>90</th>\n",
       "      <th>91</th>\n",
       "      <th>92</th>\n",
       "      <th>93</th>\n",
       "      <th>94</th>\n",
       "      <th>95</th>\n",
       "      <th>96</th>\n",
       "      <th>97</th>\n",
       "      <th>98</th>\n",
       "      <th>99</th>\n",
       "    </tr>\n",
       "  </thead>\n",
       "  <tbody>\n",
       "    <tr>\n",
       "      <th>0</th>\n",
       "      <td>2.587382</td>\n",
       "      <td>1.735096</td>\n",
       "      <td>2.805784</td>\n",
       "      <td>2.808497</td>\n",
       "      <td>2.051500</td>\n",
       "      <td>2.530000</td>\n",
       "      <td>2.262429</td>\n",
       "      <td>2.189008</td>\n",
       "      <td>2.512121</td>\n",
       "      <td>2.695214</td>\n",
       "      <td>...</td>\n",
       "      <td>1.584592</td>\n",
       "      <td>2.261775</td>\n",
       "      <td>1.384078</td>\n",
       "      <td>1.302735</td>\n",
       "      <td>1.617816</td>\n",
       "      <td>2.145763</td>\n",
       "      <td>2.030173</td>\n",
       "      <td>1.361016</td>\n",
       "      <td>1.624062</td>\n",
       "      <td>1.548308</td>\n",
       "    </tr>\n",
       "    <tr>\n",
       "      <th>1</th>\n",
       "      <td>1.729766</td>\n",
       "      <td>1.470804</td>\n",
       "      <td>1.468309</td>\n",
       "      <td>1.378944</td>\n",
       "      <td>0.833270</td>\n",
       "      <td>1.100750</td>\n",
       "      <td>0.577461</td>\n",
       "      <td>1.241744</td>\n",
       "      <td>0.782385</td>\n",
       "      <td>1.782568</td>\n",
       "      <td>...</td>\n",
       "      <td>0.592737</td>\n",
       "      <td>1.086077</td>\n",
       "      <td>-0.257822</td>\n",
       "      <td>-0.403802</td>\n",
       "      <td>0.581268</td>\n",
       "      <td>1.015560</td>\n",
       "      <td>0.851418</td>\n",
       "      <td>0.275960</td>\n",
       "      <td>0.420321</td>\n",
       "      <td>0.308964</td>\n",
       "    </tr>\n",
       "    <tr>\n",
       "      <th>2</th>\n",
       "      <td>3.344767</td>\n",
       "      <td>3.302255</td>\n",
       "      <td>3.846140</td>\n",
       "      <td>3.076611</td>\n",
       "      <td>3.027984</td>\n",
       "      <td>2.617583</td>\n",
       "      <td>3.186150</td>\n",
       "      <td>2.706815</td>\n",
       "      <td>3.890304</td>\n",
       "      <td>3.457028</td>\n",
       "      <td>...</td>\n",
       "      <td>1.659859</td>\n",
       "      <td>2.554965</td>\n",
       "      <td>1.323442</td>\n",
       "      <td>1.366464</td>\n",
       "      <td>1.681589</td>\n",
       "      <td>1.964062</td>\n",
       "      <td>2.242885</td>\n",
       "      <td>1.439764</td>\n",
       "      <td>1.685639</td>\n",
       "      <td>1.734439</td>\n",
       "    </tr>\n",
       "    <tr>\n",
       "      <th>3</th>\n",
       "      <td>3.382407</td>\n",
       "      <td>3.338540</td>\n",
       "      <td>3.465177</td>\n",
       "      <td>2.537292</td>\n",
       "      <td>3.679260</td>\n",
       "      <td>2.213637</td>\n",
       "      <td>3.441076</td>\n",
       "      <td>2.650789</td>\n",
       "      <td>4.027575</td>\n",
       "      <td>3.485529</td>\n",
       "      <td>...</td>\n",
       "      <td>2.374736</td>\n",
       "      <td>2.673804</td>\n",
       "      <td>1.914855</td>\n",
       "      <td>2.090422</td>\n",
       "      <td>2.389358</td>\n",
       "      <td>2.538216</td>\n",
       "      <td>2.459458</td>\n",
       "      <td>2.323644</td>\n",
       "      <td>2.076592</td>\n",
       "      <td>2.329594</td>\n",
       "    </tr>\n",
       "    <tr>\n",
       "      <th>4</th>\n",
       "      <td>2.774192</td>\n",
       "      <td>1.930653</td>\n",
       "      <td>2.026012</td>\n",
       "      <td>2.033315</td>\n",
       "      <td>1.617532</td>\n",
       "      <td>1.870940</td>\n",
       "      <td>2.167780</td>\n",
       "      <td>1.810621</td>\n",
       "      <td>1.830054</td>\n",
       "      <td>2.701257</td>\n",
       "      <td>...</td>\n",
       "      <td>1.281234</td>\n",
       "      <td>1.609595</td>\n",
       "      <td>1.244307</td>\n",
       "      <td>1.348403</td>\n",
       "      <td>1.132644</td>\n",
       "      <td>1.507787</td>\n",
       "      <td>1.473952</td>\n",
       "      <td>1.081278</td>\n",
       "      <td>1.163032</td>\n",
       "      <td>1.054110</td>\n",
       "    </tr>\n",
       "  </tbody>\n",
       "</table>\n",
       "<p>5 rows × 100 columns</p>\n",
       "</div>"
      ],
      "text/plain": [
       "         0         1         2         3         4         5         6   \\\n",
       "0  2.587382  1.735096  2.805784  2.808497  2.051500  2.530000  2.262429   \n",
       "1  1.729766  1.470804  1.468309  1.378944  0.833270  1.100750  0.577461   \n",
       "2  3.344767  3.302255  3.846140  3.076611  3.027984  2.617583  3.186150   \n",
       "3  3.382407  3.338540  3.465177  2.537292  3.679260  2.213637  3.441076   \n",
       "4  2.774192  1.930653  2.026012  2.033315  1.617532  1.870940  2.167780   \n",
       "\n",
       "         7         8         9   ...        90        91        92        93  \\\n",
       "0  2.189008  2.512121  2.695214  ...  1.584592  2.261775  1.384078  1.302735   \n",
       "1  1.241744  0.782385  1.782568  ...  0.592737  1.086077 -0.257822 -0.403802   \n",
       "2  2.706815  3.890304  3.457028  ...  1.659859  2.554965  1.323442  1.366464   \n",
       "3  2.650789  4.027575  3.485529  ...  2.374736  2.673804  1.914855  2.090422   \n",
       "4  1.810621  1.830054  2.701257  ...  1.281234  1.609595  1.244307  1.348403   \n",
       "\n",
       "         94        95        96        97        98        99  \n",
       "0  1.617816  2.145763  2.030173  1.361016  1.624062  1.548308  \n",
       "1  0.581268  1.015560  0.851418  0.275960  0.420321  0.308964  \n",
       "2  1.681589  1.964062  2.242885  1.439764  1.685639  1.734439  \n",
       "3  2.389358  2.538216  2.459458  2.323644  2.076592  2.329594  \n",
       "4  1.132644  1.507787  1.473952  1.081278  1.163032  1.054110  \n",
       "\n",
       "[5 rows x 100 columns]"
      ]
     },
     "execution_count": 3,
     "metadata": {},
     "output_type": "execute_result"
    }
   ],
   "source": [
    "sushi_utilities.head(5)"
   ]
  },
  {
   "cell_type": "code",
   "execution_count": 4,
   "id": "fb56534d",
   "metadata": {},
   "outputs": [],
   "source": [
    "sushi_utilities = np.asarray(sushi_utilities)"
   ]
  },
  {
   "cell_type": "code",
   "execution_count": 5,
   "id": "fbdf81d0",
   "metadata": {},
   "outputs": [],
   "source": [
    "out_arr = np.argsort(sushi_utilities[0,:])"
   ]
  },
  {
   "cell_type": "code",
   "execution_count": 6,
   "id": "e1066ee6",
   "metadata": {},
   "outputs": [],
   "source": [
    "sorted_array = sushi_desc[out_arr]"
   ]
  },
  {
   "cell_type": "code",
   "execution_count": 7,
   "id": "1a4d95b0",
   "metadata": {},
   "outputs": [
    {
     "name": "stdout",
     "output_type": "stream",
     "text": [
      "Five most preferred sushis for customer 1 are: ['negi_toro (fatty flesh of tuna minced to a paste and mixed with chopped green leaves of Welsh onions)'\n",
      " 'ika (squid)' 'maguro (tuna)' 'samon (salmon)'\n",
      " 'inari (fried tofu wrapper)']\n"
     ]
    }
   ],
   "source": [
    "print(f'Five most preferred sushis for customer 1 are: {np.flip(sorted_array[-5:])}')"
   ]
  },
  {
   "cell_type": "markdown",
   "id": "a88130ba",
   "metadata": {},
   "source": [
    "#### b)"
   ]
  },
  {
   "cell_type": "code",
   "execution_count": 8,
   "id": "5cd73ca6",
   "metadata": {},
   "outputs": [],
   "source": [
    "out_arr_2 = np.argsort(sushi_utilities[1,:])"
   ]
  },
  {
   "cell_type": "code",
   "execution_count": 9,
   "id": "61544478",
   "metadata": {},
   "outputs": [],
   "source": [
    "sorted_array_2 = sushi_desc[out_arr_2]"
   ]
  },
  {
   "cell_type": "code",
   "execution_count": 10,
   "id": "a666b9ac",
   "metadata": {},
   "outputs": [
    {
     "name": "stdout",
     "output_type": "stream",
     "text": [
      "Five least preferred sushis for customer 2 are: ['karasumi (dried mullet roe)' 'komochi_konbu (herring roe & sea tangle)'\n",
      " 'kyabia (caviar)' 'awabi (abalone)' 'kazunoko (herring roe)']\n"
     ]
    }
   ],
   "source": [
    "print(f'Five least preferred sushis for customer 2 are: {sorted_array_2[0:5]}')"
   ]
  },
  {
   "cell_type": "markdown",
   "id": "f3318779",
   "metadata": {},
   "source": [
    "#### c)"
   ]
  },
  {
   "cell_type": "code",
   "execution_count": 11,
   "id": "7af09e8d",
   "metadata": {},
   "outputs": [],
   "source": [
    "sorted_ranks = np.arange(100)"
   ]
  },
  {
   "cell_type": "code",
   "execution_count": 12,
   "id": "1bffc243",
   "metadata": {},
   "outputs": [
    {
     "data": {
      "text/plain": [
       "array([[ 0,  1,  2,  3,  4,  5,  6,  7,  8,  9, 10, 11, 12, 13, 14, 15,\n",
       "        16, 17, 18, 19, 20, 21, 22, 23, 24, 25, 26, 27, 28, 29, 30, 31,\n",
       "        32, 33, 34, 35, 36, 37, 38, 39, 40, 41, 42, 43, 44, 45, 46, 47,\n",
       "        48, 49, 50, 51, 52, 53, 54, 55, 56, 57, 58, 59, 60, 61, 62, 63,\n",
       "        64, 65, 66, 67, 68, 69, 70, 71, 72, 73, 74, 75, 76, 77, 78, 79,\n",
       "        80, 81, 82, 83, 84, 85, 86, 87, 88, 89, 90, 91, 92, 93, 94, 95,\n",
       "        96, 97, 98, 99]])"
      ]
     },
     "execution_count": 12,
     "metadata": {},
     "output_type": "execute_result"
    }
   ],
   "source": [
    "sorted_ranks.reshape(1,100)"
   ]
  },
  {
   "cell_type": "code",
   "execution_count": 13,
   "id": "fa6af214",
   "metadata": {},
   "outputs": [],
   "source": [
    "#getting the corresponding sushi names\n",
    "for i in range(sushi_utilities.shape[0]):\n",
    "    out_arr = np.argsort(sushi_utilities[i,:])\n",
    "    out_arr = np.argsort(out_arr)\n",
    "    sorted_ranks = np.vstack([sorted_ranks, out_arr])\n",
    "   "
   ]
  },
  {
   "cell_type": "code",
   "execution_count": 14,
   "id": "32f2ad5b",
   "metadata": {},
   "outputs": [
    {
     "data": {
      "text/plain": [
       "(501, 100)"
      ]
     },
     "execution_count": 14,
     "metadata": {},
     "output_type": "execute_result"
    }
   ],
   "source": [
    "sorted_ranks.shape"
   ]
  },
  {
   "cell_type": "code",
   "execution_count": 15,
   "id": "2611642b",
   "metadata": {},
   "outputs": [],
   "source": [
    "sorted_ranks = pd.DataFrame(sorted_ranks)\n",
    "sorted_ranks = sorted_ranks.iloc[1:,:]"
   ]
  },
  {
   "cell_type": "code",
   "execution_count": 16,
   "id": "e75bbecc",
   "metadata": {},
   "outputs": [
    {
     "data": {
      "text/html": [
       "<div>\n",
       "<style scoped>\n",
       "    .dataframe tbody tr th:only-of-type {\n",
       "        vertical-align: middle;\n",
       "    }\n",
       "\n",
       "    .dataframe tbody tr th {\n",
       "        vertical-align: top;\n",
       "    }\n",
       "\n",
       "    .dataframe thead th {\n",
       "        text-align: right;\n",
       "    }\n",
       "</style>\n",
       "<table border=\"1\" class=\"dataframe\">\n",
       "  <thead>\n",
       "    <tr style=\"text-align: right;\">\n",
       "      <th></th>\n",
       "      <th>0</th>\n",
       "      <th>1</th>\n",
       "      <th>2</th>\n",
       "      <th>3</th>\n",
       "      <th>4</th>\n",
       "      <th>5</th>\n",
       "      <th>6</th>\n",
       "      <th>7</th>\n",
       "      <th>8</th>\n",
       "      <th>9</th>\n",
       "      <th>...</th>\n",
       "      <th>90</th>\n",
       "      <th>91</th>\n",
       "      <th>92</th>\n",
       "      <th>93</th>\n",
       "      <th>94</th>\n",
       "      <th>95</th>\n",
       "      <th>96</th>\n",
       "      <th>97</th>\n",
       "      <th>98</th>\n",
       "      <th>99</th>\n",
       "    </tr>\n",
       "  </thead>\n",
       "  <tbody>\n",
       "    <tr>\n",
       "      <th>1</th>\n",
       "      <td>89</td>\n",
       "      <td>44</td>\n",
       "      <td>97</td>\n",
       "      <td>98</td>\n",
       "      <td>61</td>\n",
       "      <td>87</td>\n",
       "      <td>74</td>\n",
       "      <td>71</td>\n",
       "      <td>85</td>\n",
       "      <td>91</td>\n",
       "      <td>...</td>\n",
       "      <td>28</td>\n",
       "      <td>73</td>\n",
       "      <td>6</td>\n",
       "      <td>3</td>\n",
       "      <td>31</td>\n",
       "      <td>69</td>\n",
       "      <td>58</td>\n",
       "      <td>4</td>\n",
       "      <td>32</td>\n",
       "      <td>24</td>\n",
       "    </tr>\n",
       "    <tr>\n",
       "      <th>2</th>\n",
       "      <td>97</td>\n",
       "      <td>93</td>\n",
       "      <td>92</td>\n",
       "      <td>87</td>\n",
       "      <td>52</td>\n",
       "      <td>76</td>\n",
       "      <td>41</td>\n",
       "      <td>83</td>\n",
       "      <td>49</td>\n",
       "      <td>99</td>\n",
       "      <td>...</td>\n",
       "      <td>44</td>\n",
       "      <td>73</td>\n",
       "      <td>2</td>\n",
       "      <td>0</td>\n",
       "      <td>42</td>\n",
       "      <td>67</td>\n",
       "      <td>55</td>\n",
       "      <td>22</td>\n",
       "      <td>32</td>\n",
       "      <td>25</td>\n",
       "    </tr>\n",
       "    <tr>\n",
       "      <th>3</th>\n",
       "      <td>89</td>\n",
       "      <td>87</td>\n",
       "      <td>96</td>\n",
       "      <td>84</td>\n",
       "      <td>82</td>\n",
       "      <td>72</td>\n",
       "      <td>85</td>\n",
       "      <td>73</td>\n",
       "      <td>98</td>\n",
       "      <td>92</td>\n",
       "      <td>...</td>\n",
       "      <td>14</td>\n",
       "      <td>65</td>\n",
       "      <td>2</td>\n",
       "      <td>4</td>\n",
       "      <td>15</td>\n",
       "      <td>38</td>\n",
       "      <td>54</td>\n",
       "      <td>7</td>\n",
       "      <td>16</td>\n",
       "      <td>19</td>\n",
       "    </tr>\n",
       "    <tr>\n",
       "      <th>4</th>\n",
       "      <td>88</td>\n",
       "      <td>87</td>\n",
       "      <td>90</td>\n",
       "      <td>44</td>\n",
       "      <td>97</td>\n",
       "      <td>17</td>\n",
       "      <td>89</td>\n",
       "      <td>52</td>\n",
       "      <td>99</td>\n",
       "      <td>92</td>\n",
       "      <td>...</td>\n",
       "      <td>31</td>\n",
       "      <td>54</td>\n",
       "      <td>3</td>\n",
       "      <td>13</td>\n",
       "      <td>33</td>\n",
       "      <td>45</td>\n",
       "      <td>37</td>\n",
       "      <td>27</td>\n",
       "      <td>12</td>\n",
       "      <td>28</td>\n",
       "    </tr>\n",
       "    <tr>\n",
       "      <th>5</th>\n",
       "      <td>98</td>\n",
       "      <td>78</td>\n",
       "      <td>83</td>\n",
       "      <td>84</td>\n",
       "      <td>50</td>\n",
       "      <td>73</td>\n",
       "      <td>90</td>\n",
       "      <td>65</td>\n",
       "      <td>67</td>\n",
       "      <td>97</td>\n",
       "      <td>...</td>\n",
       "      <td>21</td>\n",
       "      <td>48</td>\n",
       "      <td>18</td>\n",
       "      <td>29</td>\n",
       "      <td>5</td>\n",
       "      <td>39</td>\n",
       "      <td>37</td>\n",
       "      <td>2</td>\n",
       "      <td>7</td>\n",
       "      <td>1</td>\n",
       "    </tr>\n",
       "  </tbody>\n",
       "</table>\n",
       "<p>5 rows × 100 columns</p>\n",
       "</div>"
      ],
      "text/plain": [
       "   0   1   2   3   4   5   6   7   8   9   ...  90  91  92  93  94  95  96  \\\n",
       "1  89  44  97  98  61  87  74  71  85  91  ...  28  73   6   3  31  69  58   \n",
       "2  97  93  92  87  52  76  41  83  49  99  ...  44  73   2   0  42  67  55   \n",
       "3  89  87  96  84  82  72  85  73  98  92  ...  14  65   2   4  15  38  54   \n",
       "4  88  87  90  44  97  17  89  52  99  92  ...  31  54   3  13  33  45  37   \n",
       "5  98  78  83  84  50  73  90  65  67  97  ...  21  48  18  29   5  39  37   \n",
       "\n",
       "   97  98  99  \n",
       "1   4  32  24  \n",
       "2  22  32  25  \n",
       "3   7  16  19  \n",
       "4  27  12  28  \n",
       "5   2   7   1  \n",
       "\n",
       "[5 rows x 100 columns]"
      ]
     },
     "execution_count": 16,
     "metadata": {},
     "output_type": "execute_result"
    }
   ],
   "source": [
    "### Ranked DataFRame in descending order\n",
    "sorted_ranks.head(5)"
   ]
  },
  {
   "cell_type": "code",
   "execution_count": 17,
   "id": "36a62719",
   "metadata": {},
   "outputs": [],
   "source": [
    "mean_array = np.mean(sorted_ranks, axis=0)"
   ]
  },
  {
   "cell_type": "code",
   "execution_count": 18,
   "id": "e5c6e963",
   "metadata": {
    "scrolled": true
   },
   "outputs": [],
   "source": [
    "mean_DataFrame = pd.DataFrame(mean_array)\n",
    "final_df = pd.concat([mean_DataFrame, sushi_description.iloc[:,1]], axis=1)"
   ]
  },
  {
   "cell_type": "code",
   "execution_count": 19,
   "id": "c7810111",
   "metadata": {},
   "outputs": [],
   "source": [
    "final_df.columns=['mean','desc']"
   ]
  },
  {
   "cell_type": "code",
   "execution_count": 20,
   "id": "22176ba1",
   "metadata": {
    "scrolled": true
   },
   "outputs": [],
   "source": [
    "sorted_final_df = final_df.sort_values(by=['mean'], ascending = False).reset_index(drop=True)"
   ]
  },
  {
   "cell_type": "code",
   "execution_count": 21,
   "id": "686fc863",
   "metadata": {
    "scrolled": true
   },
   "outputs": [
    {
     "name": "stdout",
     "output_type": "stream",
     "text": [
      "Rank of each of the 100 sushis according to their utilities (from best to worst):\n",
      "0     negi_toro (fatty flesh of tuna minced to a pas...\n",
      "1                                         maguro (tuna)\n",
      "2                                     kurumaebi (prawn)\n",
      "3                  negi_toro_maki (roll style of no.37)\n",
      "4                                          ebi (shrimp)\n",
      "                            ...                        \n",
      "95                                namako (sea cucumber)\n",
      "96                                        okura (gumbo)\n",
      "97                          karasumi (dried mullet roe)\n",
      "98         himo_kyu_maki (part of clam & cucumber roll)\n",
      "99                                      kyabia (caviar)\n",
      "Name: desc, Length: 100, dtype: object\n"
     ]
    }
   ],
   "source": [
    "print(f'Rank of each of the 100 sushis according to their utilities (from best to worst):\\n{sorted_final_df.iloc[:,1]}')"
   ]
  },
  {
   "cell_type": "code",
   "execution_count": 22,
   "id": "0b77f2f7",
   "metadata": {
    "scrolled": true
   },
   "outputs": [
    {
     "name": "stdout",
     "output_type": "stream",
     "text": [
      "Best ranked Sushis:\n",
      "0    negi_toro (fatty flesh of tuna minced to a pas...\n",
      "1                                        maguro (tuna)\n",
      "2                                    kurumaebi (prawn)\n",
      "3                 negi_toro_maki (roll style of no.37)\n",
      "4                                         ebi (shrimp)\n",
      "Name: desc, dtype: object\n"
     ]
    }
   ],
   "source": [
    "print(f'Best ranked Sushis:\\n{sorted_final_df.iloc[0:5,1]}')"
   ]
  },
  {
   "cell_type": "markdown",
   "id": "3a34e448",
   "metadata": {},
   "source": [
    "#### d)"
   ]
  },
  {
   "cell_type": "code",
   "execution_count": 23,
   "id": "b4c29519",
   "metadata": {
    "scrolled": false
   },
   "outputs": [
    {
     "name": "stdout",
     "output_type": "stream",
     "text": [
      "Sushi with the worst average rank in the 500 customers: kyabia (caviar)\n"
     ]
    }
   ],
   "source": [
    "print(f'Sushi with the worst average rank in the 500 customers: {sorted_final_df.iloc[-1,1]}')"
   ]
  },
  {
   "cell_type": "markdown",
   "id": "1f73c23a",
   "metadata": {},
   "source": [
    "#### e)"
   ]
  },
  {
   "cell_type": "code",
   "execution_count": 24,
   "id": "548e47a0",
   "metadata": {},
   "outputs": [],
   "source": [
    "std_array = np.std(sorted_ranks, axis=0)"
   ]
  },
  {
   "cell_type": "code",
   "execution_count": 25,
   "id": "d44b34b6",
   "metadata": {},
   "outputs": [],
   "source": [
    "std_DataFrame = pd.DataFrame(std_array)\n",
    "final_df_std = pd.concat([std_DataFrame, sushi_description.iloc[:,1]], axis=1)"
   ]
  },
  {
   "cell_type": "code",
   "execution_count": 26,
   "id": "0ad34a4e",
   "metadata": {},
   "outputs": [],
   "source": [
    "final_df_std.columns=['std','desc']"
   ]
  },
  {
   "cell_type": "code",
   "execution_count": 27,
   "id": "519d69a3",
   "metadata": {
    "scrolled": true
   },
   "outputs": [],
   "source": [
    "sorted_final_df_std = final_df_std.sort_values(by=['std'], ascending = False).reset_index(drop=True)"
   ]
  },
  {
   "cell_type": "code",
   "execution_count": 28,
   "id": "2bd22167",
   "metadata": {},
   "outputs": [
    {
     "name": "stdout",
     "output_type": "stream",
     "text": [
      "Most controversial sushi with highest standard deviation: awabi (abalone)\n"
     ]
    }
   ],
   "source": [
    "print(f'Most controversial sushi with highest standard deviation: {sorted_final_df_std.iloc[0,1]}')"
   ]
  },
  {
   "cell_type": "markdown",
   "id": "b9b3c417",
   "metadata": {},
   "source": [
    "### Part 2: Common-sense solutions"
   ]
  },
  {
   "cell_type": "code",
   "execution_count": 29,
   "id": "ab55b9d3",
   "metadata": {},
   "outputs": [],
   "source": [
    "# read in price data\n",
    "sushi_info = pd.read_csv('sushi_info.csv', names=['Name', 'Category Code', 'Price'])\n",
    "\n",
    "sushi_prices = np.asarray(sushi_info['Price'])"
   ]
  },
  {
   "cell_type": "code",
   "execution_count": 30,
   "id": "ad862ba9",
   "metadata": {
    "scrolled": true
   },
   "outputs": [
    {
     "data": {
      "text/html": [
       "<div>\n",
       "<style scoped>\n",
       "    .dataframe tbody tr th:only-of-type {\n",
       "        vertical-align: middle;\n",
       "    }\n",
       "\n",
       "    .dataframe tbody tr th {\n",
       "        vertical-align: top;\n",
       "    }\n",
       "\n",
       "    .dataframe thead th {\n",
       "        text-align: right;\n",
       "    }\n",
       "</style>\n",
       "<table border=\"1\" class=\"dataframe\">\n",
       "  <thead>\n",
       "    <tr style=\"text-align: right;\">\n",
       "      <th></th>\n",
       "      <th>Name</th>\n",
       "      <th>Category Code</th>\n",
       "      <th>Price</th>\n",
       "    </tr>\n",
       "  </thead>\n",
       "  <tbody>\n",
       "    <tr>\n",
       "      <th>0</th>\n",
       "      <td>ebi</td>\n",
       "      <td>6</td>\n",
       "      <td>14.71</td>\n",
       "    </tr>\n",
       "    <tr>\n",
       "      <th>1</th>\n",
       "      <td>anago</td>\n",
       "      <td>3</td>\n",
       "      <td>15.94</td>\n",
       "    </tr>\n",
       "    <tr>\n",
       "      <th>2</th>\n",
       "      <td>maguro</td>\n",
       "      <td>1</td>\n",
       "      <td>15.00</td>\n",
       "    </tr>\n",
       "    <tr>\n",
       "      <th>3</th>\n",
       "      <td>ika</td>\n",
       "      <td>5</td>\n",
       "      <td>12.12</td>\n",
       "    </tr>\n",
       "    <tr>\n",
       "      <th>4</th>\n",
       "      <td>uni</td>\n",
       "      <td>8</td>\n",
       "      <td>26.30</td>\n",
       "    </tr>\n",
       "  </tbody>\n",
       "</table>\n",
       "</div>"
      ],
      "text/plain": [
       "     Name  Category Code  Price\n",
       "0     ebi              6  14.71\n",
       "1   anago              3  15.94\n",
       "2  maguro              1  15.00\n",
       "3     ika              5  12.12\n",
       "4     uni              8  26.30"
      ]
     },
     "execution_count": 30,
     "metadata": {},
     "output_type": "execute_result"
    }
   ],
   "source": [
    "sushi_info.head()"
   ]
  },
  {
   "cell_type": "code",
   "execution_count": 31,
   "id": "67e7a870",
   "metadata": {},
   "outputs": [
    {
     "data": {
      "text/plain": [
       "array([2.58738227, 1.7350962 , 2.8057844 , 2.80849708, 2.05149979])"
      ]
     },
     "execution_count": 31,
     "metadata": {},
     "output_type": "execute_result"
    }
   ],
   "source": [
    "test_S = set([i for i in range(1,6)])\n",
    "S = np.array(list(test_S)) - 1\n",
    "sushi_utilities[0, S]"
   ]
  },
  {
   "cell_type": "code",
   "execution_count": 32,
   "id": "b450b3aa",
   "metadata": {},
   "outputs": [
    {
     "data": {
      "text/plain": [
       "array([[2.58738227, 1.7350962 , 2.8057844 , ..., 1.36101624, 1.6240616 ,\n",
       "        1.54830768],\n",
       "       [1.7297663 , 1.4708043 , 1.46830921, ..., 0.27596015, 0.42032138,\n",
       "        0.30896378],\n",
       "       [3.34476731, 3.30225465, 3.84613956, ..., 1.43976384, 1.68563883,\n",
       "        1.73443892],\n",
       "       ...,\n",
       "       [3.36391552, 2.90684874, 3.3925252 , ..., 3.122866  , 2.31925383,\n",
       "        2.4390661 ],\n",
       "       [2.85628107, 2.22074824, 2.64534802, ..., 1.08939582, 1.21020218,\n",
       "        1.35564913],\n",
       "       [3.91464174, 3.35614098, 3.22951918, ..., 3.23661939, 3.21807821,\n",
       "        3.10566456]])"
      ]
     },
     "execution_count": 32,
     "metadata": {},
     "output_type": "execute_result"
    }
   ],
   "source": [
    "sushi_utilities"
   ]
  },
  {
   "cell_type": "code",
   "execution_count": 33,
   "id": "8980eb6b",
   "metadata": {},
   "outputs": [
    {
     "data": {
      "text/plain": [
       "{1, 2, 3, 4, 5}"
      ]
     },
     "execution_count": 33,
     "metadata": {},
     "output_type": "execute_result"
    }
   ],
   "source": [
    "test_S"
   ]
  },
  {
   "cell_type": "code",
   "execution_count": 34,
   "id": "03c18063",
   "metadata": {},
   "outputs": [
    {
     "name": "stdout",
     "output_type": "stream",
     "text": [
      "14.239620000000011\n"
     ]
    }
   ],
   "source": [
    "def revenue_function(sushi_utilities, sushi_prices, S):\n",
    "    # computes per customer revenue of some assortment S\n",
    "    # sushi_utils = k x n matrix of sushi utilities (k = # of customers, n = # of sushis)\n",
    "    # sushi_prices = n x 1 vector of sushi prices\n",
    "    # S = a set of sushis offered\n",
    "    \n",
    "    # define no-purchase utility\n",
    "    no_purch_util = 3\n",
    "    # variable that will store total revenue\n",
    "    total_rev = 0\n",
    "    # number of customers\n",
    "    num_cust = len(sushi_utilities)\n",
    "    # list of customers\n",
    "    customers = [i for i in range(num_cust)]\n",
    "    # convert assortment to numpy array so we can index with it, adjust for Python indexing\n",
    "    S = np.array(list(S)) - 1\n",
    "    \n",
    "    # for each customer...\n",
    "    for cust in customers:\n",
    "        \n",
    "        # extract utilities for this customer\n",
    "        this_cust_utils = sushi_utilities[cust, S]\n",
    "        # if highest utility is greater than the no-purchase option...\n",
    "        if np.max(this_cust_utils) > no_purch_util:\n",
    "            \n",
    "            # extract index of the highest utility (i.e. their preferred sushi)\n",
    "            sushi_pref = np.argmax(this_cust_utils)\n",
    "            # extract price\n",
    "            price = sushi_prices[S[sushi_pref]]\n",
    "            # track total revenue\n",
    "            total_rev += price\n",
    "            \n",
    "    # adjust total revenue for number of customers (i.e. find per customer revenue)\n",
    "    revenue = total_rev / num_cust\n",
    "    \n",
    "    return revenue\n",
    "\n",
    "# check function\n",
    "test_S = set([i for i in range(1,6)])\n",
    "print(revenue_function(sushi_utilities, sushi_prices, test_S))"
   ]
  },
  {
   "cell_type": "code",
   "execution_count": 37,
   "id": "bc4601bd",
   "metadata": {},
   "outputs": [],
   "source": [
    "test_S = set([i for i in range(1,6)])"
   ]
  },
  {
   "cell_type": "code",
   "execution_count": 39,
   "id": "40fb0de7",
   "metadata": {},
   "outputs": [
    {
     "data": {
      "text/plain": [
       "array([2.58738227, 1.7350962 , 2.8057844 , 2.80849708, 2.05149979])"
      ]
     },
     "execution_count": 39,
     "metadata": {},
     "output_type": "execute_result"
    }
   ],
   "source": [
    "sushi_utilities[0, np.array(list(test_S)) - 1]"
   ]
  },
  {
   "cell_type": "markdown",
   "id": "55ee2468",
   "metadata": {},
   "source": [
    "#### a)"
   ]
  },
  {
   "cell_type": "code",
   "execution_count": 35,
   "id": "504444b4",
   "metadata": {},
   "outputs": [
    {
     "ename": "NameError",
     "evalue": "name 'per_cust_rev' is not defined",
     "output_type": "error",
     "traceback": [
      "\u001b[1;31m---------------------------------------------------------------------------\u001b[0m",
      "\u001b[1;31mNameError\u001b[0m                                 Traceback (most recent call last)",
      "\u001b[1;32m<ipython-input-35-14ffd3e701fb>\u001b[0m in \u001b[0;36m<module>\u001b[1;34m\u001b[0m\n\u001b[0;32m      2\u001b[0m \u001b[0mall_S\u001b[0m \u001b[1;33m=\u001b[0m \u001b[0mset\u001b[0m\u001b[1;33m(\u001b[0m\u001b[1;33m[\u001b[0m\u001b[0mi\u001b[0m\u001b[1;33m+\u001b[0m\u001b[1;36m1\u001b[0m \u001b[1;32mfor\u001b[0m \u001b[0mi\u001b[0m \u001b[1;32min\u001b[0m \u001b[0mrange\u001b[0m\u001b[1;33m(\u001b[0m\u001b[0mlen\u001b[0m\u001b[1;33m(\u001b[0m\u001b[0msushi_utilities\u001b[0m\u001b[1;33m[\u001b[0m\u001b[1;36m0\u001b[0m\u001b[1;33m]\u001b[0m\u001b[1;33m)\u001b[0m\u001b[1;33m)\u001b[0m\u001b[1;33m]\u001b[0m\u001b[1;33m)\u001b[0m\u001b[1;33m\u001b[0m\u001b[1;33m\u001b[0m\u001b[0m\n\u001b[0;32m      3\u001b[0m \u001b[1;31m# calculate revenue\u001b[0m\u001b[1;33m\u001b[0m\u001b[1;33m\u001b[0m\u001b[1;33m\u001b[0m\u001b[0m\n\u001b[1;32m----> 4\u001b[1;33m \u001b[0mprint\u001b[0m\u001b[1;33m(\u001b[0m\u001b[1;34mf'Expected Revenue: {per_cust_rev(sushi_utilities, sushi_prices, all_S)}'\u001b[0m\u001b[1;33m)\u001b[0m\u001b[1;33m\u001b[0m\u001b[1;33m\u001b[0m\u001b[0m\n\u001b[0m",
      "\u001b[1;31mNameError\u001b[0m: name 'per_cust_rev' is not defined"
     ]
    }
   ],
   "source": [
    "# offer all sushis\n",
    "all_S = set([i+1 for i in range(len(sushi_utilities[0]))])\n",
    "# calculate revenue\n",
    "print(f'Expected Revenue: {per_cust_rev(sushi_utilities, sushi_prices, all_S)}')"
   ]
  },
  {
   "cell_type": "markdown",
   "id": "86ef1f09",
   "metadata": {},
   "source": [
    "#### b)"
   ]
  },
  {
   "cell_type": "code",
   "execution_count": null,
   "id": "f3c78ae7",
   "metadata": {
    "scrolled": true
   },
   "outputs": [],
   "source": [
    "# offer only the 10 highest revenue sushis\n",
    "top_10_rev_S = np.flip(np.argsort(sushi_prices))[:10] + 1\n",
    "print(top_10_rev_S)\n",
    "\n",
    "S = [sushi-1 for sushi in top_10_rev_S]\n",
    "# subset dataframe\n",
    "sushi_info = sushi_info.loc[S]\n",
    "print(sushi_info['Name'])\n",
    "\n",
    "# calculate revenue\n",
    "print(f'Expected Revenue: {per_cust_rev(sushi_utilities, sushi_prices, set(top_10_rev_S))}')"
   ]
  },
  {
   "cell_type": "markdown",
   "id": "a52463cf",
   "metadata": {},
   "source": [
    "### c)"
   ]
  },
  {
   "cell_type": "code",
   "execution_count": null,
   "id": "2007659d",
   "metadata": {},
   "outputs": [],
   "source": [
    "# set to store highest utilities for each customer\n",
    "pref_utils_S = set()\n",
    "\n",
    "# for each customer\n",
    "for cust in [i for i in range(500)]:\n",
    "    \n",
    "    # get utilities for this customer\n",
    "    this_cust = sushi_utilities[cust]\n",
    "    # compute sushi of max utility\n",
    "    sushi_max_util = np.argmax(this_cust) + 1\n",
    "    # add this sushi to set\n",
    "    pref_utils_S.add(sushi_max_util)\n",
    "    \n",
    "print(f'Expected Revenue: {per_cust_rev(sushi_utilities, sushi_prices, pref_utils_S)}')"
   ]
  },
  {
   "cell_type": "markdown",
   "id": "a98bb74c",
   "metadata": {},
   "source": [
    "We notice that this value is the same as that observed when all sushis are offered."
   ]
  },
  {
   "cell_type": "markdown",
   "id": "c2edb2da",
   "metadata": {},
   "source": [
    "#### d)"
   ]
  },
  {
   "cell_type": "markdown",
   "id": "9ebd1a31",
   "metadata": {},
   "source": [
    "Refer answer sheet"
   ]
  },
  {
   "cell_type": "markdown",
   "id": "b496a2c6",
   "metadata": {},
   "source": [
    "### e)"
   ]
  },
  {
   "cell_type": "markdown",
   "id": "823a8c42",
   "metadata": {},
   "source": [
    "Refer answer sheet"
   ]
  },
  {
   "cell_type": "markdown",
   "id": "75e69daf",
   "metadata": {},
   "source": [
    "### Part 3: An integer optimization model"
   ]
  },
  {
   "cell_type": "markdown",
   "id": "ab8cb73d",
   "metadata": {},
   "source": [
    "#### a)"
   ]
  },
  {
   "cell_type": "markdown",
   "id": "2fd9a6a3",
   "metadata": {},
   "source": [
    "Refer to answer sheet"
   ]
  },
  {
   "cell_type": "markdown",
   "id": "a349c120",
   "metadata": {},
   "source": [
    "#### b)"
   ]
  },
  {
   "cell_type": "code",
   "execution_count": 42,
   "id": "3f093f45",
   "metadata": {
    "scrolled": false
   },
   "outputs": [
    {
     "data": {
      "text/plain": [
       "(500, 100)"
      ]
     },
     "execution_count": 42,
     "metadata": {},
     "output_type": "execute_result"
    }
   ],
   "source": [
    "sushi_utils.shape"
   ]
  },
  {
   "cell_type": "code",
   "execution_count": 43,
   "id": "992abd8b",
   "metadata": {},
   "outputs": [
    {
     "data": {
      "text/plain": [
       "array([[2.58738227, 1.7350962 , 2.8057844 , ..., 1.36101624, 1.6240616 ,\n",
       "        1.54830768],\n",
       "       [1.7297663 , 1.4708043 , 1.46830921, ..., 0.27596015, 0.42032138,\n",
       "        0.30896378],\n",
       "       [3.34476731, 3.30225465, 3.84613956, ..., 1.43976384, 1.68563883,\n",
       "        1.73443892],\n",
       "       ...,\n",
       "       [3.36391552, 2.90684874, 3.3925252 , ..., 3.122866  , 2.31925383,\n",
       "        2.4390661 ],\n",
       "       [2.85628107, 2.22074824, 2.64534802, ..., 1.08939582, 1.21020218,\n",
       "        1.35564913],\n",
       "       [3.91464174, 3.35614098, 3.22951918, ..., 3.23661939, 3.21807821,\n",
       "        3.10566456]])"
      ]
     },
     "execution_count": 43,
     "metadata": {},
     "output_type": "execute_result"
    }
   ],
   "source": [
    "sushi_utils"
   ]
  },
  {
   "cell_type": "code",
   "execution_count": 41,
   "id": "45c6db09",
   "metadata": {},
   "outputs": [
    {
     "name": "stdout",
     "output_type": "stream",
     "text": [
      "[3. 3. 3. 3. 3.]\n",
      "(500, 101)\n"
     ]
    }
   ],
   "source": [
    "# read in sushi utilities\n",
    "sushi_utils = pd.read_csv('sushi_utilities_mat.csv',\n",
    "                          names=[i for i in range(100)])\n",
    "# convert to numpy array\n",
    "sushi_utils = np.asarray(sushi_utils)\n",
    "\n",
    "# initialize no-purchase utility column\n",
    "no_purch_col = np.array([3 for i in range(500)]).reshape(500,1)\n",
    "# add no-purchase column to utilities matrix\n",
    "sushi_utils_np = np.hstack((sushi_utils, no_purch_col))\n",
    "# check first 5 vals of no-purchase column\n",
    "print(sushi_utils_np[:5,100])\n",
    "# check shape\n",
    "print(sushi_utils_np.shape)"
   ]
  },
  {
   "cell_type": "code",
   "execution_count": null,
   "id": "60908489",
   "metadata": {},
   "outputs": [],
   "source": [
    "from gurobipy import *"
   ]
  },
  {
   "cell_type": "code",
   "execution_count": null,
   "id": "b5e1cf95",
   "metadata": {},
   "outputs": [],
   "source": [
    "# initialize model\n",
    "m_relaxed = Model()\n",
    "\n",
    "# define dimension variabes\n",
    "n_sushis = 100\n",
    "n_cust = 500\n",
    "\n",
    "# create decision variables, don't enforce them to be binary since this is the relaxation\n",
    "x = m_relaxed.addVars(n_sushis, ub=1)\n",
    "y = m_relaxed.addVars(n_cust, n_sushis+1, ub=1)\n",
    "\n",
    "# add the constraints for each customer\n",
    "for k in range(n_cust):\n",
    "    \n",
    "   \n",
    "    m_relaxed.addConstr(sum(y[k,j] for j in range(n_sushis+1)) == 1)\n",
    "    m_relaxed.addConstr(quicksum(sushi_utils_np[k,j] * y[k,j] for j in range(n_sushis+1)) >= sushi_utils_np[k,n_sushis])\n",
    "    \n",
    "    # loop through all sushis\n",
    "    for i in range(n_sushis):\n",
    "        \n",
    "        m_relaxed.addConstr(y[k,i] <= x[i])\n",
    "        m_relaxed.addConstr(quicksum(sushi_utils_np[k,j] * y[k,j] for j in range(n_sushis+1)) >= sushi_utils_np[k,i] * x[i] + sushi_utils_np[k,n_sushis] * (1 - x[i]))\n",
    "\n",
    "# create objective function\n",
    "m_relaxed.setObjective(quicksum((1 / n_cust) * sushi_prices[i] * y[k,i] for k in range(n_cust) for i in range(n_sushis)), GRB.MAXIMIZE)\n",
    "\n",
    "# update the model\n",
    "m_relaxed.update()\n",
    "# solve the model\n",
    "m_relaxed.optimize()"
   ]
  },
  {
   "cell_type": "code",
   "execution_count": null,
   "id": "c4b8cd15",
   "metadata": {},
   "outputs": [],
   "source": [
    "# display the objective value\n",
    "print(f'Optimal objective: ${m_relaxed.objval:.2f}')"
   ]
  },
  {
   "cell_type": "markdown",
   "id": "96ec3c38",
   "metadata": {},
   "source": [
    "#### c)"
   ]
  },
  {
   "cell_type": "markdown",
   "id": "2ab67097",
   "metadata": {},
   "source": [
    "Refer to answer sheet"
   ]
  },
  {
   "cell_type": "markdown",
   "id": "be9a66fa",
   "metadata": {},
   "source": [
    "#### d)"
   ]
  },
  {
   "cell_type": "code",
   "execution_count": null,
   "id": "03f4727a",
   "metadata": {},
   "outputs": [],
   "source": [
    "# initialize model\n",
    "m = Model()\n",
    "\n",
    "# define dimension variabes\n",
    "n_sushis = 100\n",
    "n_cust = 500\n",
    "\n",
    "# create decision variables\n",
    "x = m.addVars(n_sushis, vtype=GRB.BINARY)\n",
    "y = m.addVars(n_cust, n_sushis+1, vtype=GRB.BINARY)\n",
    "\n",
    "# add the constraints for each customer\n",
    "for k in range(n_cust):\n",
    "    \n",
    "    # every customer makes exactly one choice\n",
    "    m.addConstr(sum(y[k,j] for j in range(n_sushis+1)) == 1)\n",
    "    # utility of any choice is at least the no-purchase utility\n",
    "    m.addConstr(quicksum(sushi_utils_np[k,j] * y[k,j] for j in range(n_sushis+1)) >= sushi_utils_np[k,n_sushis])\n",
    "    \n",
    "    # loop through all sushis\n",
    "    for i in range(n_sushis):\n",
    "        \n",
    "        # choose only from products that are in the assortment\n",
    "        m.addConstr(y[k,i] <= x[i])\n",
    "        # the utility of any choice is at least the utility of any included sushis\n",
    "        m.addConstr(quicksum(sushi_utils_np[k,j] * y[k,j] for j in range(n_sushis+1)) >= sushi_utils_np[k,i] * x[i] + sushi_utils_np[k,n_sushis] * (1 - x[i]))\n",
    "\n",
    "# create objective function\n",
    "m.setObjective(quicksum((1 / n_cust) * sushi_prices[i] * y[k,i] for k in range(n_cust) for i in range(n_sushis)), GRB.MAXIMIZE)\n",
    "\n",
    "# update the model\n",
    "m.update()\n",
    "# solve the model\n",
    "m.optimize()"
   ]
  },
  {
   "cell_type": "code",
   "execution_count": null,
   "id": "dfed9251",
   "metadata": {},
   "outputs": [],
   "source": [
    "# display the objective value\n",
    "print(f'Optimal objective: ${m.objval:.2f}')"
   ]
  },
  {
   "cell_type": "markdown",
   "id": "082fc10e",
   "metadata": {},
   "source": [
    "#### e)"
   ]
  },
  {
   "cell_type": "code",
   "execution_count": null,
   "id": "d1800454",
   "metadata": {},
   "outputs": [],
   "source": [
    "sushi_info = pd.read_csv('sushi_info.csv', names=['Name', 'Category Code', 'Price'])"
   ]
  },
  {
   "cell_type": "code",
   "execution_count": null,
   "id": "df93a30d",
   "metadata": {},
   "outputs": [],
   "source": [
    "# extract the optimal assortment of sushis (add 1 to adjust for Python indexing)\n",
    "optimal_S = [i+1 for i in range(n_sushis) if x[i].x > 0.5]\n",
    "print(f'Optimal assortment: {optimal_S}')\n",
    "\n",
    "print(per_cust_rev(sushi_utils, sushi_prices, set(optimal_S)))"
   ]
  },
  {
   "cell_type": "code",
   "execution_count": null,
   "id": "c345bcbf",
   "metadata": {},
   "outputs": [],
   "source": [
    "optimal_S_adj"
   ]
  },
  {
   "cell_type": "code",
   "execution_count": null,
   "id": "e2cfde95",
   "metadata": {
    "scrolled": true
   },
   "outputs": [],
   "source": [
    "# get optimal assortment in terms of sushi names\n",
    "\n",
    "optimal_S_adj = [sushi-1 for sushi in optimal_S]\n",
    "\n",
    "sushi_info = sushi_info.iloc[optimal_S_adj]\n",
    "print(sushi_info['Name'])\n"
   ]
  },
  {
   "cell_type": "markdown",
   "id": "4d8e79ec",
   "metadata": {},
   "source": [
    "## 2 Hospital Staffing"
   ]
  },
  {
   "cell_type": "code",
   "execution_count": null,
   "id": "4c23e4cc",
   "metadata": {},
   "outputs": [],
   "source": [
    "nurse_data = pd.read_csv('nurse.csv')"
   ]
  },
  {
   "cell_type": "code",
   "execution_count": null,
   "id": "6565585a",
   "metadata": {},
   "outputs": [],
   "source": [
    "nurse_data.head()"
   ]
  },
  {
   "cell_type": "markdown",
   "id": "9f36b773",
   "metadata": {},
   "source": [
    "#### a)"
   ]
  },
  {
   "cell_type": "code",
   "execution_count": null,
   "id": "ff144242",
   "metadata": {},
   "outputs": [],
   "source": [
    "ED_cases = 12\n",
    "regular_nurses = 18\n",
    "\n",
    "#Ideally, 12 nurses would be enough to treat 12 ED_cases. So, staffing cost:\n",
    "\n",
    "staffing_cost = regular_nurses*2160\n",
    "print(f'staffing cost: {staffing_cost}')"
   ]
  },
  {
   "cell_type": "markdown",
   "id": "14ccc69e",
   "metadata": {},
   "source": [
    "#### b)"
   ]
  },
  {
   "cell_type": "code",
   "execution_count": null,
   "id": "03492741",
   "metadata": {},
   "outputs": [],
   "source": [
    "ED_cases = 8\n",
    "regular_nurses = 5\n",
    "agency_nurses = ED_cases - regular_nurses\n",
    "\n",
    "staffing_cost = regular_nurses*2160 + agency_nurses*5400\n",
    "print(f'staffing cost: {staffing_cost}')"
   ]
  },
  {
   "cell_type": "markdown",
   "id": "49793664",
   "metadata": {},
   "source": [
    "#### c, d)"
   ]
  },
  {
   "cell_type": "markdown",
   "id": "06c6db72",
   "metadata": {},
   "source": [
    "Refer to answer sheet"
   ]
  },
  {
   "cell_type": "markdown",
   "id": "bc2e408d",
   "metadata": {},
   "source": [
    "### Part 2: Solving the Basic Newsvendor Model"
   ]
  },
  {
   "cell_type": "code",
   "execution_count": null,
   "id": "f0071e14",
   "metadata": {},
   "outputs": [],
   "source": [
    "# read in data\n",
    "nurse = pd.read_csv('nurse.csv')\n",
    "# split into first 200 (train) and last 100 (test) days\n",
    "train = nurse[nurse['Day'] <= 200]\n",
    "test = nurse[nurse['Day'] > 200]\n",
    "# split into X and y variables\n",
    "X_train = train.drop(columns=['DailyED', 'Day'])\n",
    "X_test = test.drop(columns=['DailyED', 'Day'])\n",
    "y_train = train['DailyED']\n",
    "y_test = test['DailyED']"
   ]
  },
  {
   "cell_type": "markdown",
   "id": "3be3569c",
   "metadata": {},
   "source": [
    "#### a)"
   ]
  },
  {
   "cell_type": "code",
   "execution_count": null,
   "id": "04e95d11",
   "metadata": {},
   "outputs": [],
   "source": [
    "##From part A,\n",
    "\n",
    "co = 2160\n",
    "cu = 5400 - co\n",
    "\n",
    "quantile = cu / (cu + co)\n",
    "print(f'Quantile: {quantile}')"
   ]
  },
  {
   "cell_type": "markdown",
   "id": "adf5de90",
   "metadata": {},
   "source": [
    "#### b)"
   ]
  },
  {
   "cell_type": "code",
   "execution_count": null,
   "id": "bb1a099e",
   "metadata": {},
   "outputs": [],
   "source": [
    "optimal_level = round(np.quantile(y_train, quantile))\n",
    "print(f'optimal_level: {optimal_level}')"
   ]
  },
  {
   "cell_type": "markdown",
   "id": "382d0d81",
   "metadata": {},
   "source": [
    "#### c)"
   ]
  },
  {
   "cell_type": "code",
   "execution_count": null,
   "id": "8fa3bb06",
   "metadata": {},
   "outputs": [],
   "source": [
    "# find average cost of this staffing level based on training set\n",
    "train_ordinary_cost = cu * np.maximum(y_train - optimal_level, 0) + co * np.maximum(optimal_level - y_train, 0) + co * y_train\n",
    "avg_train_ordinary_cost = train_ordinary_cost.mean(axis = 0)\n",
    "print(f'Average cost of this staffing level based on training set: {avg_train_ordinary_cost}')"
   ]
  },
  {
   "cell_type": "markdown",
   "id": "c30079c9",
   "metadata": {},
   "source": [
    "#### d)"
   ]
  },
  {
   "cell_type": "code",
   "execution_count": null,
   "id": "ec09a5b3",
   "metadata": {},
   "outputs": [],
   "source": [
    "# find average cost of this staffing level based on test set\n",
    "test_ordinary_cost = cu * np.maximum(y_test - optimal_level, 0) + co * np.maximum(optimal_level - y_test, 0) + co * y_test\n",
    "avg_test_ordinary_cost = test_ordinary_cost.mean(axis = 0)\n",
    "print(f'Average cost of this staffing level based on test set: {avg_test_ordinary_cost}')"
   ]
  },
  {
   "cell_type": "markdown",
   "id": "8f4688e9",
   "metadata": {},
   "source": [
    "### Part 3: Solving the Contextual Newsvendor Model"
   ]
  },
  {
   "cell_type": "code",
   "execution_count": null,
   "id": "0dc5897c",
   "metadata": {},
   "outputs": [],
   "source": [
    "# Load the tree module\n",
    "import sklearn.tree as tree"
   ]
  },
  {
   "cell_type": "code",
   "execution_count": null,
   "id": "0506ade1",
   "metadata": {},
   "outputs": [],
   "source": [
    "# Estimate the regression tree model\n",
    "oj_tree = tree.DecisionTreeRegressor(max_depth = 2)\n",
    "oj_tree = oj_tree.fit(X_train,y_train)\n",
    "\n",
    "# Inspect the oj_tree object\n",
    "oj_tree"
   ]
  },
  {
   "cell_type": "markdown",
   "id": "ff6144c1",
   "metadata": {},
   "source": [
    "#### a)"
   ]
  },
  {
   "cell_type": "code",
   "execution_count": null,
   "id": "09e05f27",
   "metadata": {
    "scrolled": true
   },
   "outputs": [],
   "source": [
    "conda install python-graphviz"
   ]
  },
  {
   "cell_type": "code",
   "execution_count": null,
   "id": "5c86fc2e",
   "metadata": {
    "scrolled": true
   },
   "outputs": [],
   "source": [
    "import graphviz \n",
    "from sklearn.tree import export_graphviz\n",
    "tree_viz = export_graphviz(oj_tree, out_file=None,\n",
    "                                feature_names=X_train.columns, impurity = False, \n",
    "                                   rounded=True,  \n",
    "                                  special_characters=True) \n",
    "graph = graphviz.Source(tree_viz) \n",
    "graph.render(\"Nurse Staffing\") \n",
    "graph"
   ]
  },
  {
   "cell_type": "markdown",
   "id": "f742863e",
   "metadata": {},
   "source": [
    "The tree splits on the variables:\n",
    "<br>Root node: TotalPriorSurgeries ≤ 21.571\n",
    "<br>Level 2 Decision node left: TotalPriorSurgeries ≤ 16.429\n",
    "<br>Level 2 Decision node right: DailyEDLag2 ≤ 10.5"
   ]
  },
  {
   "cell_type": "markdown",
   "id": "7826ed41",
   "metadata": {},
   "source": [
    "#### b)"
   ]
  },
  {
   "cell_type": "code",
   "execution_count": null,
   "id": "8aae6e5c",
   "metadata": {},
   "outputs": [],
   "source": [
    "leaf_mapping = oj_tree.apply(X_train)\n",
    "leaves = [i for i in range(oj_tree.tree_.node_count) if oj_tree.tree_.children_left[i] == -1 ]\n",
    "# print(leaves)\n",
    "\n",
    "leaf_to_quantile = np.zeros( oj_tree.tree_.node_count )\n",
    "\n",
    "## using the quantile calculated from above\n",
    "for ell in leaves:\n",
    "    ind = leaf_mapping == ell \n",
    "    y_ell = y_train[ind]\n",
    "    leaf_to_quantile[ell] = round(np.quantile(y_ell, quantile))\n",
    "    \n",
    "leaf_to_quantile"
   ]
  },
  {
   "cell_type": "markdown",
   "id": "656ee6d5",
   "metadata": {},
   "source": [
    "#### c)"
   ]
  },
  {
   "cell_type": "code",
   "execution_count": null,
   "id": "57601362",
   "metadata": {},
   "outputs": [],
   "source": [
    "train_leaves = oj_tree.apply(X_train)\n",
    "train_decisions = leaf_to_quantile[train_leaves]\n",
    "\n",
    "# calculate cost\n",
    "train_set_cost = cu * np.maximum(y_train - train_decisions, 0) + co * np.maximum(train_decisions - y_train, 0) + co * y_train\n",
    "\n",
    "# take average\n",
    "avg_train_set_cost = train_set_cost.mean(axis = 0)\n",
    "print(avg_train_set_cost)"
   ]
  },
  {
   "cell_type": "markdown",
   "id": "0b13d590",
   "metadata": {},
   "source": [
    "#### d)"
   ]
  },
  {
   "cell_type": "code",
   "execution_count": null,
   "id": "9df5baa3",
   "metadata": {},
   "outputs": [],
   "source": [
    "test_leaves = oj_tree.apply(X_test)\n",
    "test_decisions = leaf_to_quantile[test_leaves]\n",
    "\n",
    "# calculate cost\n",
    "test_set_cost = cu * np.maximum(y_test - test_decisions, 0) + co * np.maximum(test_decisions - y_test, 0) + co * y_test\n",
    "\n",
    "# take average\n",
    "avg_test_set_cost = test_set_cost.mean(axis = 0)\n",
    "print(avg_test_set_cost)"
   ]
  }
 ],
 "metadata": {
  "kernelspec": {
   "display_name": "Python 3",
   "language": "python",
   "name": "python3"
  },
  "language_info": {
   "codemirror_mode": {
    "name": "ipython",
    "version": 3
   },
   "file_extension": ".py",
   "mimetype": "text/x-python",
   "name": "python",
   "nbconvert_exporter": "python",
   "pygments_lexer": "ipython3",
   "version": "3.8.8"
  }
 },
 "nbformat": 4,
 "nbformat_minor": 5
}
